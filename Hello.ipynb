{
 "cells": [
  {
   "cell_type": "code",
   "execution_count": 116,
   "metadata": {},
   "outputs": [],
   "source": [
    "%matplotlib inline\n",
    "import ephem\n",
    "import matplotlib.pyplot as plt\n",
    "import numpy as np"
   ]
  },
  {
   "cell_type": "code",
   "execution_count": 117,
   "metadata": {},
   "outputs": [],
   "source": [
    "TLE = \"\"\"Reaktor Hello World\n",
    "1 43721U 18095A   18333.26388241 0.00000000  00000-0  00000-0 0  9992\n",
    "2 43721  97.4900  38.2566 0011220 303.6883 257.4124 15.23034864    06\"\"\""
   ]
  },
  {
   "cell_type": "code",
   "execution_count": 118,
   "metadata": {},
   "outputs": [],
   "source": [
    "Sat = ephem.readtle(*TLE.split(\"\\n\"))"
   ]
  },
  {
   "cell_type": "code",
   "execution_count": 134,
   "metadata": {},
   "outputs": [],
   "source": [
    "OUTPUT = \"\"\"  Rises at {} in direction {}°\n",
    "Maximum at {} at altitude {}°\n",
    "   Sets at {} in direction {}°\n",
    "    \"\"\""
   ]
  },
  {
   "cell_type": "code",
   "execution_count": 135,
   "metadata": {},
   "outputs": [],
   "source": [
    "Obs = ephem.Observer()\n",
    "Obs.lat = \"60.217301\"\n",
    "Obs.lon = \"24.394529\""
   ]
  },
  {
   "cell_type": "code",
   "execution_count": 141,
   "metadata": {},
   "outputs": [],
   "source": [
    "\n",
    "def get_next_pass(min_alt=20):\n",
    "    t0 = ephem.now()\n",
    "    t = t0\n",
    "    # Compute next pass from \"now\", and if it doesn't rise high enough,\n",
    "    # add one second to its set time and compute next pass from that.\n",
    "    # Stop computing after 14 days and just return an error message.\n",
    "    while True:\n",
    "        if t - t0 > 14:\n",
    "            return \"No pass found in the next 14 days.\"\n",
    "        Obs.date = t\n",
    "        Sat.compute(Obs)\n",
    "        t_rise, az_rise, t_max, alt_max, t_set, az_set = Obs.next_pass(Sat)\n",
    "        if alt_max > min_alt*np.pi/180:\n",
    "            break\n",
    "        t = t_set + 1 / 86400\n",
    "    t_rise = ephem.Date(t_rise)\n",
    "    t_max = ephem.Date(t_rise)\n",
    "    t_set = ephem.Date(t_rise)\n",
    "    return OUTPUT.format(\n",
    "        ephem.localtime(t_rise),\n",
    "        az_rise,\n",
    "        ephem.localtime(t_max),\n",
    "        alt_max,\n",
    "        ephem.localtime(t_set),\n",
    "        az_set\n",
    "    )"
   ]
  },
  {
   "cell_type": "markdown",
   "metadata": {},
   "source": [
    "## Get next pass that rises higher than given altitude"
   ]
  },
  {
   "cell_type": "code",
   "execution_count": 142,
   "metadata": {},
   "outputs": [
    {
     "name": "stdout",
     "output_type": "stream",
     "text": [
      "  Rises at 2018-11-29 20:15:26.000003 in direction 127:15:23.7°\n",
      "Maximum at 2018-11-29 20:15:26.000003 at altitude 25:08:56.9°\n",
      "   Sets at 2018-11-29 20:15:26.000003 in direction 348:32:51.0°\n",
      "    \n"
     ]
    }
   ],
   "source": [
    "min_alt = 20\n",
    "print(get_next_pass(min_alt))"
   ]
  },
  {
   "cell_type": "code",
   "execution_count": null,
   "metadata": {},
   "outputs": [],
   "source": []
  }
 ],
 "metadata": {
  "kernelspec": {
   "display_name": "Python 3",
   "language": "python",
   "name": "python3"
  },
  "language_info": {
   "codemirror_mode": {
    "name": "ipython",
    "version": 3
   },
   "file_extension": ".py",
   "mimetype": "text/x-python",
   "name": "python",
   "nbconvert_exporter": "python",
   "pygments_lexer": "ipython3",
   "version": "3.7.0"
  }
 },
 "nbformat": 4,
 "nbformat_minor": 2
}
